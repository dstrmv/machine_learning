{
 "cells": [
  {
   "cell_type": "markdown",
   "source": [
    "упражнение 3 при помощи statsmodel"
   ],
   "metadata": {
    "collapsed": false,
    "pycharm": {
     "name": "#%% md\n"
    }
   }
  },
  {
   "cell_type": "code",
   "execution_count": 77,
   "metadata": {
    "collapsed": true
   },
   "outputs": [],
   "source": [
    "import statsmodels.api as sm\n",
    "import pandas as pd\n",
    "import numpy as np\n",
    "import math\n",
    "\n",
    "data = pd.read_csv(\"data/ml_3.csv\", delimiter=',', index_col='competitorname')"
   ]
  },
  {
   "cell_type": "code",
   "execution_count": 78,
   "outputs": [],
   "source": [
    "rows_to_del = ['Fun Dip', 'Jawbusters', 'Now & Later']\n",
    "train_data = data.drop(rows_to_del)\n",
    "\n",
    "data_predictors = pd.DataFrame(train_data.drop(['winpercent', 'Y'], axis=1))\n",
    "data_predictors = sm.add_constant(data_predictors)\n",
    "data_resp = train_data['Y']"
   ],
   "metadata": {
    "collapsed": false,
    "pycharm": {
     "name": "#%%\n"
    }
   }
  },
  {
   "cell_type": "code",
   "execution_count": 79,
   "outputs": [
    {
     "data": {
      "text/plain": "<class 'statsmodels.iolib.summary.Summary'>\n\"\"\"\n                           Logit Regression Results                           \n==============================================================================\nDep. Variable:                      Y   No. Observations:                   67\nModel:                          Logit   Df Residuals:                       55\nMethod:                           MLE   Df Model:                           11\nDate:                Thu, 15 Oct 2020   Pseudo R-squ.:                  0.4869\nTime:                        12:56:21   Log-Likelihood:                -23.642\nconverged:                       True   LL-Null:                       -46.075\nCovariance Type:            nonrobust   LLR p-value:                 5.125e-06\n====================================================================================\n                       coef    std err          z      P>|z|      [0.025      0.975]\n------------------------------------------------------------------------------------\nconst              -28.8115   1208.742     -0.024      0.981   -2397.902    2340.279\nchocolate           29.2322   1208.740      0.024      0.981   -2339.855    2398.319\nfruity              28.0843   1208.741      0.023      0.981   -2341.004    2397.173\ncaramel              1.0453      1.321      0.792      0.429      -1.543       3.634\npeanutyalmondy      15.5887   1080.879      0.014      0.988   -2102.896    2134.073\nnougat              -1.0365      1.873     -0.553      0.580      -4.707       2.634\ncrispedricewafer    16.4102   3292.225      0.005      0.996   -6436.232    6469.052\nhard                -2.1708      1.223     -1.775      0.076      -4.568       0.226\nbar                  1.1632      1.992      0.584      0.559      -2.742       5.068\npluribus             0.5009      1.102      0.455      0.649      -1.659       2.661\nsugarpercent         1.4230      1.385      1.028      0.304      -1.291       4.137\npricepercent        -1.5043      1.718     -0.876      0.381      -4.871       1.863\n====================================================================================\n\nPossibly complete quasi-separation: A fraction 0.36 of observations can be\nperfectly predicted. This might indicate that there is complete\nquasi-separation. In this case some parameters will not be identified.\n\"\"\"",
      "text/html": "<table class=\"simpletable\">\n<caption>Logit Regression Results</caption>\n<tr>\n  <th>Dep. Variable:</th>           <td>Y</td>        <th>  No. Observations:  </th>  <td>    67</td>  \n</tr>\n<tr>\n  <th>Model:</th>                 <td>Logit</td>      <th>  Df Residuals:      </th>  <td>    55</td>  \n</tr>\n<tr>\n  <th>Method:</th>                 <td>MLE</td>       <th>  Df Model:          </th>  <td>    11</td>  \n</tr>\n<tr>\n  <th>Date:</th>            <td>Thu, 15 Oct 2020</td> <th>  Pseudo R-squ.:     </th>  <td>0.4869</td>  \n</tr>\n<tr>\n  <th>Time:</th>                <td>12:56:21</td>     <th>  Log-Likelihood:    </th> <td> -23.642</td> \n</tr>\n<tr>\n  <th>converged:</th>             <td>True</td>       <th>  LL-Null:           </th> <td> -46.075</td> \n</tr>\n<tr>\n  <th>Covariance Type:</th>     <td>nonrobust</td>    <th>  LLR p-value:       </th> <td>5.125e-06</td>\n</tr>\n</table>\n<table class=\"simpletable\">\n<tr>\n          <td></td>            <th>coef</th>     <th>std err</th>      <th>z</th>      <th>P>|z|</th>  <th>[0.025</th>    <th>0.975]</th>  \n</tr>\n<tr>\n  <th>const</th>            <td>  -28.8115</td> <td> 1208.742</td> <td>   -0.024</td> <td> 0.981</td> <td>-2397.902</td> <td> 2340.279</td>\n</tr>\n<tr>\n  <th>chocolate</th>        <td>   29.2322</td> <td> 1208.740</td> <td>    0.024</td> <td> 0.981</td> <td>-2339.855</td> <td> 2398.319</td>\n</tr>\n<tr>\n  <th>fruity</th>           <td>   28.0843</td> <td> 1208.741</td> <td>    0.023</td> <td> 0.981</td> <td>-2341.004</td> <td> 2397.173</td>\n</tr>\n<tr>\n  <th>caramel</th>          <td>    1.0453</td> <td>    1.321</td> <td>    0.792</td> <td> 0.429</td> <td>   -1.543</td> <td>    3.634</td>\n</tr>\n<tr>\n  <th>peanutyalmondy</th>   <td>   15.5887</td> <td> 1080.879</td> <td>    0.014</td> <td> 0.988</td> <td>-2102.896</td> <td> 2134.073</td>\n</tr>\n<tr>\n  <th>nougat</th>           <td>   -1.0365</td> <td>    1.873</td> <td>   -0.553</td> <td> 0.580</td> <td>   -4.707</td> <td>    2.634</td>\n</tr>\n<tr>\n  <th>crispedricewafer</th> <td>   16.4102</td> <td> 3292.225</td> <td>    0.005</td> <td> 0.996</td> <td>-6436.232</td> <td> 6469.052</td>\n</tr>\n<tr>\n  <th>hard</th>             <td>   -2.1708</td> <td>    1.223</td> <td>   -1.775</td> <td> 0.076</td> <td>   -4.568</td> <td>    0.226</td>\n</tr>\n<tr>\n  <th>bar</th>              <td>    1.1632</td> <td>    1.992</td> <td>    0.584</td> <td> 0.559</td> <td>   -2.742</td> <td>    5.068</td>\n</tr>\n<tr>\n  <th>pluribus</th>         <td>    0.5009</td> <td>    1.102</td> <td>    0.455</td> <td> 0.649</td> <td>   -1.659</td> <td>    2.661</td>\n</tr>\n<tr>\n  <th>sugarpercent</th>     <td>    1.4230</td> <td>    1.385</td> <td>    1.028</td> <td> 0.304</td> <td>   -1.291</td> <td>    4.137</td>\n</tr>\n<tr>\n  <th>pricepercent</th>     <td>   -1.5043</td> <td>    1.718</td> <td>   -0.876</td> <td> 0.381</td> <td>   -4.871</td> <td>    1.863</td>\n</tr>\n</table><br/><br/>Possibly complete quasi-separation: A fraction 0.36 of observations can be<br/>perfectly predicted. This might indicate that there is complete<br/>quasi-separation. In this case some parameters will not be identified."
     },
     "execution_count": 79,
     "metadata": {},
     "output_type": "execute_result"
    }
   ],
   "source": [
    "model = sm.Logit(data_resp, data_predictors)\n",
    "reg = model.fit(method='lbfgs', maxiter=10000)\n",
    "reg.summary()\n"
   ],
   "metadata": {
    "collapsed": false,
    "pycharm": {
     "name": "#%%\n"
    }
   }
  },
  {
   "cell_type": "code",
   "execution_count": 80,
   "outputs": [
    {
     "data": {
      "text/plain": "chocolate           1.000\nfruity              0.000\ncaramel             0.000\npeanutyalmondy      0.000\nnougat              0.000\ncrispedricewafer    0.000\nhard                0.000\nbar                 0.000\npluribus            0.000\nsugarpercent        0.313\npricepercent        0.511\nconst               1.000\nName: Tootsie Roll Juniors, dtype: float64"
     },
     "execution_count": 80,
     "metadata": {},
     "output_type": "execute_result"
    }
   ],
   "source": [
    "test_data = pd.read_csv(\"data/ml_3_test.csv\", delimiter=',', index_col='competitorname')\n",
    "tootsie = test_data.loc['Tootsie Roll Juniors',:]\n",
    "tootsie = tootsie.drop(['Y'])\n",
    "tootsie['const'] = 1\n",
    "tootsie"
   ],
   "metadata": {
    "collapsed": false,
    "pycharm": {
     "name": "#%%\n"
    }
   }
  },
  {
   "cell_type": "code",
   "execution_count": 81,
   "outputs": [
    {
     "data": {
      "text/plain": "array([1.6516958e-13])"
     },
     "execution_count": 81,
     "metadata": {},
     "output_type": "execute_result"
    }
   ],
   "source": [
    "reg.predict(tootsie.values)"
   ],
   "metadata": {
    "collapsed": false,
    "pycharm": {
     "name": "#%%\n"
    }
   }
  },
  {
   "cell_type": "code",
   "execution_count": 82,
   "outputs": [
    {
     "data": {
      "text/plain": "chocolate           0.000\nfruity              1.000\ncaramel             0.000\npeanutyalmondy      0.000\nnougat              0.000\ncrispedricewafer    0.000\nhard                0.000\nbar                 0.000\npluribus            1.000\nsugarpercent        0.604\npricepercent        0.755\nconst               1.000\nName: Swedish Fish, dtype: float64"
     },
     "execution_count": 82,
     "metadata": {},
     "output_type": "execute_result"
    }
   ],
   "source": [
    "fish = test_data.loc['Swedish Fish',:]\n",
    "fish = fish.drop(['Y'])\n",
    "fish['const'] = 1\n",
    "fish"
   ],
   "metadata": {
    "collapsed": false,
    "pycharm": {
     "name": "#%%\n"
    }
   }
  },
  {
   "cell_type": "code",
   "execution_count": 95,
   "outputs": [
    {
     "data": {
      "text/plain": "array([1.])"
     },
     "execution_count": 95,
     "metadata": {},
     "output_type": "execute_result"
    }
   ],
   "source": [
    "reg.predict(fish.values)\n"
   ],
   "metadata": {
    "collapsed": false,
    "pycharm": {
     "name": "#%%\n"
    }
   }
  }
 ],
 "metadata": {
  "kernelspec": {
   "name": "pycharm-9b18c182",
   "language": "python",
   "display_name": "PyCharm (data_analysis)"
  },
  "language_info": {
   "codemirror_mode": {
    "name": "ipython",
    "version": 2
   },
   "file_extension": ".py",
   "mimetype": "text/x-python",
   "name": "python",
   "nbconvert_exporter": "python",
   "pygments_lexer": "ipython2",
   "version": "2.7.6"
  }
 },
 "nbformat": 4,
 "nbformat_minor": 0
}