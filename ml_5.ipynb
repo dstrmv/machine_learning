{
 "cells": [
  {
   "cell_type": "code",
   "execution_count": 132,
   "metadata": {
    "collapsed": true
   },
   "outputs": [
    {
     "data": {
      "text/plain": "         X   Y  Cluster\nObject                 \n1       12  11        0\n2        5  12        1\n3       14  15        2\n4        3   3        0\n5        9   1        2\n6       11  11        0\n7       15   2        1\n8        6   4        0\n9       17  11        0\n10      13  11        0\n11      18  11        2\n12       9  15        2\n13      15  20        2\n14       9  18        2\n15      14   5        2",
      "text/html": "<div>\n<style scoped>\n    .dataframe tbody tr th:only-of-type {\n        vertical-align: middle;\n    }\n\n    .dataframe tbody tr th {\n        vertical-align: top;\n    }\n\n    .dataframe thead th {\n        text-align: right;\n    }\n</style>\n<table border=\"1\" class=\"dataframe\">\n  <thead>\n    <tr style=\"text-align: right;\">\n      <th></th>\n      <th>X</th>\n      <th>Y</th>\n      <th>Cluster</th>\n    </tr>\n    <tr>\n      <th>Object</th>\n      <th></th>\n      <th></th>\n      <th></th>\n    </tr>\n  </thead>\n  <tbody>\n    <tr>\n      <th>1</th>\n      <td>12</td>\n      <td>11</td>\n      <td>0</td>\n    </tr>\n    <tr>\n      <th>2</th>\n      <td>5</td>\n      <td>12</td>\n      <td>1</td>\n    </tr>\n    <tr>\n      <th>3</th>\n      <td>14</td>\n      <td>15</td>\n      <td>2</td>\n    </tr>\n    <tr>\n      <th>4</th>\n      <td>3</td>\n      <td>3</td>\n      <td>0</td>\n    </tr>\n    <tr>\n      <th>5</th>\n      <td>9</td>\n      <td>1</td>\n      <td>2</td>\n    </tr>\n    <tr>\n      <th>6</th>\n      <td>11</td>\n      <td>11</td>\n      <td>0</td>\n    </tr>\n    <tr>\n      <th>7</th>\n      <td>15</td>\n      <td>2</td>\n      <td>1</td>\n    </tr>\n    <tr>\n      <th>8</th>\n      <td>6</td>\n      <td>4</td>\n      <td>0</td>\n    </tr>\n    <tr>\n      <th>9</th>\n      <td>17</td>\n      <td>11</td>\n      <td>0</td>\n    </tr>\n    <tr>\n      <th>10</th>\n      <td>13</td>\n      <td>11</td>\n      <td>0</td>\n    </tr>\n    <tr>\n      <th>11</th>\n      <td>18</td>\n      <td>11</td>\n      <td>2</td>\n    </tr>\n    <tr>\n      <th>12</th>\n      <td>9</td>\n      <td>15</td>\n      <td>2</td>\n    </tr>\n    <tr>\n      <th>13</th>\n      <td>15</td>\n      <td>20</td>\n      <td>2</td>\n    </tr>\n    <tr>\n      <th>14</th>\n      <td>9</td>\n      <td>18</td>\n      <td>2</td>\n    </tr>\n    <tr>\n      <th>15</th>\n      <td>14</td>\n      <td>5</td>\n      <td>2</td>\n    </tr>\n  </tbody>\n</table>\n</div>"
     },
     "execution_count": 132,
     "metadata": {},
     "output_type": "execute_result"
    }
   ],
   "source": [
    "import numpy as np\n",
    "import pandas as pd\n",
    "from sklearn.cluster import KMeans\n",
    "\n",
    "df = pd.read_csv(\"data/ml_5.csv\", index_col='Object')\n",
    "df"
   ]
  },
  {
   "cell_type": "code",
   "execution_count": 133,
   "outputs": [
    {
     "data": {
      "text/plain": "         X   Y\nObject        \n1       12  11\n2        5  12\n3       14  15\n4        3   3\n5        9   1\n6       11  11\n7       15   2\n8        6   4\n9       17  11\n10      13  11\n11      18  11\n12       9  15\n13      15  20\n14       9  18\n15      14   5",
      "text/html": "<div>\n<style scoped>\n    .dataframe tbody tr th:only-of-type {\n        vertical-align: middle;\n    }\n\n    .dataframe tbody tr th {\n        vertical-align: top;\n    }\n\n    .dataframe thead th {\n        text-align: right;\n    }\n</style>\n<table border=\"1\" class=\"dataframe\">\n  <thead>\n    <tr style=\"text-align: right;\">\n      <th></th>\n      <th>X</th>\n      <th>Y</th>\n    </tr>\n    <tr>\n      <th>Object</th>\n      <th></th>\n      <th></th>\n    </tr>\n  </thead>\n  <tbody>\n    <tr>\n      <th>1</th>\n      <td>12</td>\n      <td>11</td>\n    </tr>\n    <tr>\n      <th>2</th>\n      <td>5</td>\n      <td>12</td>\n    </tr>\n    <tr>\n      <th>3</th>\n      <td>14</td>\n      <td>15</td>\n    </tr>\n    <tr>\n      <th>4</th>\n      <td>3</td>\n      <td>3</td>\n    </tr>\n    <tr>\n      <th>5</th>\n      <td>9</td>\n      <td>1</td>\n    </tr>\n    <tr>\n      <th>6</th>\n      <td>11</td>\n      <td>11</td>\n    </tr>\n    <tr>\n      <th>7</th>\n      <td>15</td>\n      <td>2</td>\n    </tr>\n    <tr>\n      <th>8</th>\n      <td>6</td>\n      <td>4</td>\n    </tr>\n    <tr>\n      <th>9</th>\n      <td>17</td>\n      <td>11</td>\n    </tr>\n    <tr>\n      <th>10</th>\n      <td>13</td>\n      <td>11</td>\n    </tr>\n    <tr>\n      <th>11</th>\n      <td>18</td>\n      <td>11</td>\n    </tr>\n    <tr>\n      <th>12</th>\n      <td>9</td>\n      <td>15</td>\n    </tr>\n    <tr>\n      <th>13</th>\n      <td>15</td>\n      <td>20</td>\n    </tr>\n    <tr>\n      <th>14</th>\n      <td>9</td>\n      <td>18</td>\n    </tr>\n    <tr>\n      <th>15</th>\n      <td>14</td>\n      <td>5</td>\n    </tr>\n  </tbody>\n</table>\n</div>"
     },
     "execution_count": 133,
     "metadata": {},
     "output_type": "execute_result"
    }
   ],
   "source": [
    "X = df.drop(['Cluster'], axis=1)\n",
    "X"
   ],
   "metadata": {
    "collapsed": false,
    "pycharm": {
     "name": "#%%\n"
    }
   }
  },
  {
   "cell_type": "code",
   "execution_count": 134,
   "outputs": [],
   "source": [
    "y = df['Cluster']\n",
    "y\n",
    "\n",
    "cl = [[10.33, 8.5], [10.0, 7.0], [12.57, 12.14]]\n",
    "km = KMeans(n_clusters=3, init=np.asarray(cl), max_iter=100, n_init=1)\n",
    "model = km.fit(X)\n",
    "clusters = model.labels_"
   ],
   "metadata": {
    "collapsed": false,
    "pycharm": {
     "name": "#%%\n"
    }
   }
  },
  {
   "cell_type": "code",
   "execution_count": 135,
   "outputs": [],
   "source": [
    "dists = model.fit_transform(X)\n",
    "X['Cluster'] = clusters"
   ],
   "metadata": {
    "collapsed": false,
    "pycharm": {
     "name": "#%%\n"
    }
   }
  },
  {
   "cell_type": "code",
   "execution_count": 136,
   "outputs": [
    {
     "data": {
      "text/plain": "        X   Y  Cluster  dist0      dist1     dist2\nObject                                            \n2       5  12        0    0.0  10.017984  8.280574",
      "text/html": "<div>\n<style scoped>\n    .dataframe tbody tr th:only-of-type {\n        vertical-align: middle;\n    }\n\n    .dataframe tbody tr th {\n        vertical-align: top;\n    }\n\n    .dataframe thead th {\n        text-align: right;\n    }\n</style>\n<table border=\"1\" class=\"dataframe\">\n  <thead>\n    <tr style=\"text-align: right;\">\n      <th></th>\n      <th>X</th>\n      <th>Y</th>\n      <th>Cluster</th>\n      <th>dist0</th>\n      <th>dist1</th>\n      <th>dist2</th>\n    </tr>\n    <tr>\n      <th>Object</th>\n      <th></th>\n      <th></th>\n      <th></th>\n      <th></th>\n      <th></th>\n      <th></th>\n    </tr>\n  </thead>\n  <tbody>\n    <tr>\n      <th>2</th>\n      <td>5</td>\n      <td>12</td>\n      <td>0</td>\n      <td>0.0</td>\n      <td>10.017984</td>\n      <td>8.280574</td>\n    </tr>\n  </tbody>\n</table>\n</div>"
     },
     "execution_count": 136,
     "metadata": {},
     "output_type": "execute_result"
    }
   ],
   "source": [
    "X[['dist0', 'dist1', 'dist2']] = pd.DataFrame(dists, index=X.index)\n",
    "zero = X.loc[X['Cluster'] == 0]\n",
    "\n",
    "# один элемент в 0 кластере, среднее равно 0\n",
    "zero\n",
    "\n"
   ],
   "metadata": {
    "collapsed": false,
    "pycharm": {
     "name": "#%%\n"
    }
   }
  },
  {
   "cell_type": "code",
   "execution_count": 136,
   "outputs": [],
   "source": [],
   "metadata": {
    "collapsed": false,
    "pycharm": {
     "name": "#%%\n"
    }
   }
  }
 ],
 "metadata": {
  "kernelspec": {
   "name": "pycharm-9b18c182",
   "language": "python",
   "display_name": "PyCharm (data_analysis)"
  },
  "language_info": {
   "codemirror_mode": {
    "name": "ipython",
    "version": 2
   },
   "file_extension": ".py",
   "mimetype": "text/x-python",
   "name": "python",
   "nbconvert_exporter": "python",
   "pygments_lexer": "ipython2",
   "version": "2.7.6"
  }
 },
 "nbformat": 4,
 "nbformat_minor": 0
}