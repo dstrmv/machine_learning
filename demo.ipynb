{
 "cells": [
  {
   "cell_type": "code",
   "execution_count": null,
   "outputs": [],
   "source": [],
   "metadata": {
    "collapsed": false,
    "pycharm": {
     "name": "#%% md разбор демо экзамена\n"
    }
   }
  },
  {
   "cell_type": "code",
   "execution_count": 8,
   "metadata": {
    "collapsed": true,
    "pycharm": {
     "name": "#%%\n"
    }
   },
   "outputs": [],
   "source": [
    "import statsmodels.api as sm\n",
    "import pandas as pd\n",
    "import numpy as np\n",
    "import math\n",
    "from sklearn import preprocessing"
   ]
  },
  {
   "cell_type": "code",
   "execution_count": 21,
   "outputs": [
    {
     "data": {
      "text/plain": "array([1. , 0.8, 0.8, 0.2, 0. ])"
     },
     "execution_count": 21,
     "metadata": {},
     "output_type": "execute_result"
    }
   ],
   "source": [
    "# линейная нормировка (1 задание)\n",
    "\n",
    "input_array = [8,7,7,4,3]\n",
    "\n",
    "s = pd.Series(np.asarray(input_array))\n",
    "s\n",
    "\n",
    "scaler = preprocessing.MinMaxScaler()\n",
    "scaled_values = scaler.fit_transform(s.to_numpy().reshape(-1, 1))\n",
    "scaled_values.reshape(1, -1)[0]\n",
    "\n",
    "# экспоненциальная нормировка пример\n",
    "\n",
    "# min_dist = df.DISTANCE.min()\n",
    "# min_stop = df.STOP_COUNT.min()\n",
    "# min_cost = df.COST.min()\n",
    "#\n",
    "# df['DISTANCE_EXP_NORM'] = df['DISTANCE'].apply(lambda x: 1.0 - math.exp(1.0 - x / min_dist))\n",
    "# df['STOP_COUNT_EXP_NORM'] = df['STOP_COUNT'].apply(lambda x: 1.0 - math.exp(1.0 - x / min_stop))\n",
    "# df['COST_EXP_NORM'] = df['COST'].apply(lambda x: 1.0 - math.exp(1.0 - x / min_cost))\n",
    "# df['SUM'] = df[['DISTANCE_EXP_NORM', 'STOP_COUNT_EXP_NORM', 'COST_EXP_NORM']].sum(axis=1)\n",
    "# df.sort_values('SUM', inplace=True)\n",
    "# df.head(3)"
   ],
   "metadata": {
    "collapsed": false,
    "pycharm": {
     "name": "#%%\n"
    }
   }
  }
 ],
 "metadata": {
  "kernelspec": {
   "name": "pycharm-9b18c182",
   "language": "python",
   "display_name": "PyCharm (data_analysis)"
  },
  "language_info": {
   "codemirror_mode": {
    "name": "ipython",
    "version": 2
   },
   "file_extension": ".py",
   "mimetype": "text/x-python",
   "name": "python",
   "nbconvert_exporter": "python",
   "pygments_lexer": "ipython2",
   "version": "2.7.6"
  }
 },
 "nbformat": 4,
 "nbformat_minor": 0
}