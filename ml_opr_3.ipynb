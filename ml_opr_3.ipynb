{
 "cells": [
  {
   "cell_type": "markdown",
   "source": [
    "опрос 3 курса ml"
   ],
   "metadata": {
    "collapsed": false,
    "pycharm": {
     "name": "#%% md\n"
    }
   }
  },
  {
   "cell_type": "code",
   "execution_count": 335,
   "metadata": {
    "collapsed": true
   },
   "outputs": [
    {
     "data": {
      "text/plain": "       product  time\nindex               \n1           13     8\n2            4     5\n3           11     6\n4           20    15",
      "text/html": "<div>\n<style scoped>\n    .dataframe tbody tr th:only-of-type {\n        vertical-align: middle;\n    }\n\n    .dataframe tbody tr th {\n        vertical-align: top;\n    }\n\n    .dataframe thead th {\n        text-align: right;\n    }\n</style>\n<table border=\"1\" class=\"dataframe\">\n  <thead>\n    <tr style=\"text-align: right;\">\n      <th></th>\n      <th>product</th>\n      <th>time</th>\n    </tr>\n    <tr>\n      <th>index</th>\n      <th></th>\n      <th></th>\n    </tr>\n  </thead>\n  <tbody>\n    <tr>\n      <th>1</th>\n      <td>13</td>\n      <td>8</td>\n    </tr>\n    <tr>\n      <th>2</th>\n      <td>4</td>\n      <td>5</td>\n    </tr>\n    <tr>\n      <th>3</th>\n      <td>11</td>\n      <td>6</td>\n    </tr>\n    <tr>\n      <th>4</th>\n      <td>20</td>\n      <td>15</td>\n    </tr>\n  </tbody>\n</table>\n</div>"
     },
     "execution_count": 335,
     "metadata": {},
     "output_type": "execute_result"
    }
   ],
   "source": [
    "import statsmodels.api as sm\n",
    "import pandas as pd\n",
    "import numpy as np\n",
    "import math\n",
    "\n",
    "df = pd.read_csv('data/ml_op_2_3.csv', sep=';', index_col='index')\n",
    "df.head()"
   ]
  },
  {
   "cell_type": "code",
   "execution_count": 336,
   "outputs": [],
   "source": [
    "# вдруг у нас много столбцов предикторов (аналогично с откликами)\n",
    "x = pd.DataFrame(df.drop(['time'], axis=1))\n",
    "Y = pd.DataFrame(df.drop(['product'], axis=1))\n",
    "\n",
    "\n",
    "# добавляем колонку единичек, особенности sm\n",
    "x = sm.add_constant(x)"
   ],
   "metadata": {
    "collapsed": false,
    "pycharm": {
     "name": "#%%\n"
    }
   }
  },
  {
   "cell_type": "code",
   "execution_count": 337,
   "outputs": [
    {
     "name": "stderr",
     "output_type": "stream",
     "text": [
      "C:\\Users\\dstrmv\\AppData\\Local\\Programs\\Python\\Python38-32\\lib\\site-packages\\statsmodels\\stats\\stattools.py:74: ValueWarning: omni_normtest is not valid with less than 8 observations; 4 samples were given.\n",
      "  warn(\"omni_normtest is not valid with less than 8 observations; %i \"\n"
     ]
    },
    {
     "data": {
      "text/plain": "<class 'statsmodels.iolib.summary.Summary'>\n\"\"\"\n                            OLS Regression Results                            \n==============================================================================\nDep. Variable:                   time   R-squared:                       0.848\nModel:                            OLS   Adj. R-squared:                  0.772\nMethod:                 Least Squares   F-statistic:                     11.15\nDate:                Thu, 15 Oct 2020   Prob (F-statistic):             0.0792\nTime:                        00:58:59   Log-Likelihood:                -7.3582\nNo. Observations:                   4   AIC:                             18.72\nDf Residuals:                       2   BIC:                             17.49\nDf Model:                           1                                         \nCovariance Type:            nonrobust                                         \n==============================================================================\n                 coef    std err          t      P>|t|      [0.025      0.975]\n------------------------------------------------------------------------------\nconst          0.9308      2.510      0.371      0.746      -9.867      11.728\nproduct        0.6308      0.189      3.339      0.079      -0.182       1.444\n==============================================================================\nOmnibus:                          nan   Durbin-Watson:                   3.220\nProb(Omnibus):                    nan   Jarque-Bera (JB):                0.596\nSkew:                          -0.085   Prob(JB):                        0.742\nKurtosis:                       1.117   Cond. No.                         31.1\n==============================================================================\n\nNotes:\n[1] Standard Errors assume that the covariance matrix of the errors is correctly specified.\n\"\"\"",
      "text/html": "<table class=\"simpletable\">\n<caption>OLS Regression Results</caption>\n<tr>\n  <th>Dep. Variable:</th>          <td>time</td>       <th>  R-squared:         </th> <td>   0.848</td>\n</tr>\n<tr>\n  <th>Model:</th>                   <td>OLS</td>       <th>  Adj. R-squared:    </th> <td>   0.772</td>\n</tr>\n<tr>\n  <th>Method:</th>             <td>Least Squares</td>  <th>  F-statistic:       </th> <td>   11.15</td>\n</tr>\n<tr>\n  <th>Date:</th>             <td>Thu, 15 Oct 2020</td> <th>  Prob (F-statistic):</th>  <td>0.0792</td> \n</tr>\n<tr>\n  <th>Time:</th>                 <td>00:58:59</td>     <th>  Log-Likelihood:    </th> <td> -7.3582</td>\n</tr>\n<tr>\n  <th>No. Observations:</th>      <td>     4</td>      <th>  AIC:               </th> <td>   18.72</td>\n</tr>\n<tr>\n  <th>Df Residuals:</th>          <td>     2</td>      <th>  BIC:               </th> <td>   17.49</td>\n</tr>\n<tr>\n  <th>Df Model:</th>              <td>     1</td>      <th>                     </th>     <td> </td>   \n</tr>\n<tr>\n  <th>Covariance Type:</th>      <td>nonrobust</td>    <th>                     </th>     <td> </td>   \n</tr>\n</table>\n<table class=\"simpletable\">\n<tr>\n     <td></td>        <th>coef</th>     <th>std err</th>      <th>t</th>      <th>P>|t|</th>  <th>[0.025</th>    <th>0.975]</th>  \n</tr>\n<tr>\n  <th>const</th>   <td>    0.9308</td> <td>    2.510</td> <td>    0.371</td> <td> 0.746</td> <td>   -9.867</td> <td>   11.728</td>\n</tr>\n<tr>\n  <th>product</th> <td>    0.6308</td> <td>    0.189</td> <td>    3.339</td> <td> 0.079</td> <td>   -0.182</td> <td>    1.444</td>\n</tr>\n</table>\n<table class=\"simpletable\">\n<tr>\n  <th>Omnibus:</th>       <td>   nan</td> <th>  Durbin-Watson:     </th> <td>   3.220</td>\n</tr>\n<tr>\n  <th>Prob(Omnibus):</th> <td>   nan</td> <th>  Jarque-Bera (JB):  </th> <td>   0.596</td>\n</tr>\n<tr>\n  <th>Skew:</th>          <td>-0.085</td> <th>  Prob(JB):          </th> <td>   0.742</td>\n</tr>\n<tr>\n  <th>Kurtosis:</th>      <td> 1.117</td> <th>  Cond. No.          </th> <td>    31.1</td>\n</tr>\n</table><br/><br/>Notes:<br/>[1] Standard Errors assume that the covariance matrix of the errors is correctly specified."
     },
     "execution_count": 337,
     "metadata": {},
     "output_type": "execute_result"
    }
   ],
   "source": [
    "model = sm.OLS(Y, x)\n",
    "res = model.fit()\n",
    "\n",
    "res.summary()"
   ],
   "metadata": {
    "collapsed": false,
    "pycharm": {
     "name": "#%%\n"
    }
   }
  },
  {
   "cell_type": "markdown",
   "source": [
    "интервалы — $const = \\theta_0$"
   ],
   "metadata": {
    "collapsed": false,
    "pycharm": {
     "name": "#%% md\n"
    }
   }
  },
  {
   "cell_type": "code",
   "execution_count": 338,
   "outputs": [
    {
     "data": {
      "text/plain": "                0          1\nconst   -9.866749  11.728288\nproduct -0.181971   1.443509",
      "text/html": "<div>\n<style scoped>\n    .dataframe tbody tr th:only-of-type {\n        vertical-align: middle;\n    }\n\n    .dataframe tbody tr th {\n        vertical-align: top;\n    }\n\n    .dataframe thead th {\n        text-align: right;\n    }\n</style>\n<table border=\"1\" class=\"dataframe\">\n  <thead>\n    <tr style=\"text-align: right;\">\n      <th></th>\n      <th>0</th>\n      <th>1</th>\n    </tr>\n  </thead>\n  <tbody>\n    <tr>\n      <th>const</th>\n      <td>-9.866749</td>\n      <td>11.728288</td>\n    </tr>\n    <tr>\n      <th>product</th>\n      <td>-0.181971</td>\n      <td>1.443509</td>\n    </tr>\n  </tbody>\n</table>\n</div>"
     },
     "execution_count": 338,
     "metadata": {},
     "output_type": "execute_result"
    }
   ],
   "source": [
    "res.conf_int()"
   ],
   "metadata": {
    "collapsed": false,
    "pycharm": {
     "name": "#%%\n"
    }
   }
  },
  {
   "cell_type": "markdown",
   "source": [
    "t stats брать для $x_1$"
   ],
   "metadata": {
    "collapsed": false
   }
  },
  {
   "cell_type": "code",
   "execution_count": 339,
   "outputs": [
    {
     "data": {
      "text/plain": "const      0.370898\nproduct    3.339298\ndtype: float64"
     },
     "execution_count": 339,
     "metadata": {},
     "output_type": "execute_result"
    }
   ],
   "source": [
    "res.tvalues"
   ],
   "metadata": {
    "collapsed": false,
    "pycharm": {
     "name": "#%%\n"
    }
   }
  },
  {
   "cell_type": "code",
   "execution_count": 340,
   "outputs": [
    {
     "data": {
      "text/plain": "2.1537087868283264"
     },
     "execution_count": 340,
     "metadata": {},
     "output_type": "execute_result"
    }
   ],
   "source": [
    "# rse\n",
    "math.sqrt(res.mse_resid)"
   ],
   "metadata": {
    "collapsed": false,
    "pycharm": {
     "name": "#%%\n"
    }
   }
  }
 ],
 "metadata": {
  "kernelspec": {
   "name": "pycharm-9b18c182",
   "language": "python",
   "display_name": "PyCharm (data_analysis)"
  },
  "language_info": {
   "codemirror_mode": {
    "name": "ipython",
    "version": 2
   },
   "file_extension": ".py",
   "mimetype": "text/x-python",
   "name": "python",
   "nbconvert_exporter": "python",
   "pygments_lexer": "ipython2",
   "version": "2.7.6"
  }
 },
 "nbformat": 4,
 "nbformat_minor": 0
}