{
 "cells": [
  {
   "cell_type": "code",
   "execution_count": 92,
   "metadata": {
    "collapsed": true
   },
   "outputs": [
    {
     "data": {
      "text/plain": "            MIP      STDIP      EKIP       SIP          MC       STDC  \\\n0     77.492188  36.010414  1.873517  6.508272    8.030936  37.252414   \n1     77.507812  38.611040  1.895568  6.257880   18.220736  48.437162   \n2     77.570312  40.995366  1.215544  2.787568   29.685619  69.974433   \n3     77.859375  45.074372  1.730826  3.978892    1.336957  12.142590   \n4     77.867188  57.322058  1.625575  1.783833  108.258361  92.760531   \n..          ...        ...       ...       ...         ...        ...   \n199  100.093750  49.980846  0.352356 -0.054942    2.706522  21.031868   \n200  100.101562  41.590233  0.987931  1.798211  140.132107  92.794731   \n201  100.101562  45.789914  0.408966  0.147361    3.257525  24.070803   \n202  100.109375  44.539350  0.441861  0.350467    8.473244  32.343502   \n203  100.109375  45.456922  0.343086  0.301457    2.939799  19.212543   \n\n           EKC          SC  TARGET  \n0     5.081888   25.683906       1  \n1     2.907536    8.276427       1  \n2     2.191310    3.170995       1  \n3    15.413558  267.461671       1  \n4    -0.071532   -1.630272       1  \n..         ...         ...     ...  \n199   8.654007   79.553394       0  \n200  -0.698227   -1.302047       0  \n201   7.892882   63.447259       0  \n202   4.532549   22.332795       0  \n203   8.563069   82.879829       0  \n\n[204 rows x 9 columns]",
      "text/html": "<div>\n<style scoped>\n    .dataframe tbody tr th:only-of-type {\n        vertical-align: middle;\n    }\n\n    .dataframe tbody tr th {\n        vertical-align: top;\n    }\n\n    .dataframe thead th {\n        text-align: right;\n    }\n</style>\n<table border=\"1\" class=\"dataframe\">\n  <thead>\n    <tr style=\"text-align: right;\">\n      <th></th>\n      <th>MIP</th>\n      <th>STDIP</th>\n      <th>EKIP</th>\n      <th>SIP</th>\n      <th>MC</th>\n      <th>STDC</th>\n      <th>EKC</th>\n      <th>SC</th>\n      <th>TARGET</th>\n    </tr>\n  </thead>\n  <tbody>\n    <tr>\n      <th>0</th>\n      <td>77.492188</td>\n      <td>36.010414</td>\n      <td>1.873517</td>\n      <td>6.508272</td>\n      <td>8.030936</td>\n      <td>37.252414</td>\n      <td>5.081888</td>\n      <td>25.683906</td>\n      <td>1</td>\n    </tr>\n    <tr>\n      <th>1</th>\n      <td>77.507812</td>\n      <td>38.611040</td>\n      <td>1.895568</td>\n      <td>6.257880</td>\n      <td>18.220736</td>\n      <td>48.437162</td>\n      <td>2.907536</td>\n      <td>8.276427</td>\n      <td>1</td>\n    </tr>\n    <tr>\n      <th>2</th>\n      <td>77.570312</td>\n      <td>40.995366</td>\n      <td>1.215544</td>\n      <td>2.787568</td>\n      <td>29.685619</td>\n      <td>69.974433</td>\n      <td>2.191310</td>\n      <td>3.170995</td>\n      <td>1</td>\n    </tr>\n    <tr>\n      <th>3</th>\n      <td>77.859375</td>\n      <td>45.074372</td>\n      <td>1.730826</td>\n      <td>3.978892</td>\n      <td>1.336957</td>\n      <td>12.142590</td>\n      <td>15.413558</td>\n      <td>267.461671</td>\n      <td>1</td>\n    </tr>\n    <tr>\n      <th>4</th>\n      <td>77.867188</td>\n      <td>57.322058</td>\n      <td>1.625575</td>\n      <td>1.783833</td>\n      <td>108.258361</td>\n      <td>92.760531</td>\n      <td>-0.071532</td>\n      <td>-1.630272</td>\n      <td>1</td>\n    </tr>\n    <tr>\n      <th>...</th>\n      <td>...</td>\n      <td>...</td>\n      <td>...</td>\n      <td>...</td>\n      <td>...</td>\n      <td>...</td>\n      <td>...</td>\n      <td>...</td>\n      <td>...</td>\n    </tr>\n    <tr>\n      <th>199</th>\n      <td>100.093750</td>\n      <td>49.980846</td>\n      <td>0.352356</td>\n      <td>-0.054942</td>\n      <td>2.706522</td>\n      <td>21.031868</td>\n      <td>8.654007</td>\n      <td>79.553394</td>\n      <td>0</td>\n    </tr>\n    <tr>\n      <th>200</th>\n      <td>100.101562</td>\n      <td>41.590233</td>\n      <td>0.987931</td>\n      <td>1.798211</td>\n      <td>140.132107</td>\n      <td>92.794731</td>\n      <td>-0.698227</td>\n      <td>-1.302047</td>\n      <td>0</td>\n    </tr>\n    <tr>\n      <th>201</th>\n      <td>100.101562</td>\n      <td>45.789914</td>\n      <td>0.408966</td>\n      <td>0.147361</td>\n      <td>3.257525</td>\n      <td>24.070803</td>\n      <td>7.892882</td>\n      <td>63.447259</td>\n      <td>0</td>\n    </tr>\n    <tr>\n      <th>202</th>\n      <td>100.109375</td>\n      <td>44.539350</td>\n      <td>0.441861</td>\n      <td>0.350467</td>\n      <td>8.473244</td>\n      <td>32.343502</td>\n      <td>4.532549</td>\n      <td>22.332795</td>\n      <td>0</td>\n    </tr>\n    <tr>\n      <th>203</th>\n      <td>100.109375</td>\n      <td>45.456922</td>\n      <td>0.343086</td>\n      <td>0.301457</td>\n      <td>2.939799</td>\n      <td>19.212543</td>\n      <td>8.563069</td>\n      <td>82.879829</td>\n      <td>0</td>\n    </tr>\n  </tbody>\n</table>\n<p>204 rows × 9 columns</p>\n</div>"
     },
     "execution_count": 92,
     "metadata": {},
     "output_type": "execute_result"
    }
   ],
   "source": [
    "\n",
    "import pandas as pd\n",
    "from sklearn.neighbors import KNeighborsClassifier\n",
    "from sklearn import preprocessing\n",
    "from sklearn.linear_model import LogisticRegression\n",
    "from sklearn.neighbors import KNeighborsClassifier\n",
    "\n",
    "train_data = pd.read_csv(\"data/ml_itog_t.csv\")\n",
    "train_data"
   ]
  },
  {
   "cell_type": "code",
   "execution_count": 93,
   "outputs": [
    {
     "data": {
      "text/plain": "MIP      90.305109\nSTDIP    43.828408\nEKIP      0.976074\nSIP       2.370424\nMC       21.670470\nSTDC     37.759954\nEKC       6.307922\nSC       69.809242\ndtype: float64"
     },
     "execution_count": 93,
     "metadata": {},
     "output_type": "execute_result"
    }
   ],
   "source": [
    "X = train_data.drop(['TARGET'], axis=1)\n",
    "y = train_data['TARGET']\n",
    "X.mean()"
   ],
   "metadata": {
    "collapsed": false,
    "pycharm": {
     "name": "#%%\n"
    }
   }
  },
  {
   "cell_type": "code",
   "execution_count": 94,
   "outputs": [
    {
     "data": {
      "text/plain": "0.5665125808527209"
     },
     "execution_count": 94,
     "metadata": {},
     "output_type": "execute_result"
    }
   ],
   "source": [
    "scaler = preprocessing.MinMaxScaler()\n",
    "scaled_values = scaler.fit_transform(X)\n",
    "scaled_values[:,0].mean()"
   ],
   "metadata": {
    "collapsed": false,
    "pycharm": {
     "name": "#%%\n"
    }
   }
  },
  {
   "cell_type": "code",
   "execution_count": 95,
   "outputs": [
    {
     "data": {
      "text/plain": "          MIP     STDIP      EKIP       SIP        MC      STDC       EKC  \\\n0    0.000000  0.096638  0.740331  0.572881  0.043549  0.312907  0.295754   \n1    0.000691  0.145800  0.749420  0.552794  0.103423  0.438747  0.193837   \n2    0.003454  0.190874  0.469129  0.274397  0.170790  0.681064  0.160265   \n3    0.016235  0.267984  0.681517  0.369968  0.004215  0.030396  0.780024   \n4    0.016580  0.499516  0.638135  0.193874  0.632479  0.937431  0.054201   \n..        ...       ...       ...       ...       ...       ...       ...   \n199  0.999309  0.360737  0.113342  0.046363  0.012263  0.130409  0.463188   \n200  0.999655  0.202119  0.375312  0.195028  0.819767  0.937815  0.024826   \n201  0.999655  0.281511  0.136676  0.062592  0.015500  0.164601  0.427512   \n202  1.000000  0.257870  0.150234  0.078886  0.046148  0.257677  0.270005   \n203  1.000000  0.275216  0.109521  0.074954  0.013634  0.109940  0.458925   \n\n           SC  \n0    0.057639  \n1    0.021185  \n2    0.010493  \n3    0.563958  \n4    0.000439  \n..        ...  \n199  0.170450  \n200  0.001126  \n201  0.136721  \n202  0.050621  \n203  0.177416  \n\n[204 rows x 8 columns]",
      "text/html": "<div>\n<style scoped>\n    .dataframe tbody tr th:only-of-type {\n        vertical-align: middle;\n    }\n\n    .dataframe tbody tr th {\n        vertical-align: top;\n    }\n\n    .dataframe thead th {\n        text-align: right;\n    }\n</style>\n<table border=\"1\" class=\"dataframe\">\n  <thead>\n    <tr style=\"text-align: right;\">\n      <th></th>\n      <th>MIP</th>\n      <th>STDIP</th>\n      <th>EKIP</th>\n      <th>SIP</th>\n      <th>MC</th>\n      <th>STDC</th>\n      <th>EKC</th>\n      <th>SC</th>\n    </tr>\n  </thead>\n  <tbody>\n    <tr>\n      <th>0</th>\n      <td>0.000000</td>\n      <td>0.096638</td>\n      <td>0.740331</td>\n      <td>0.572881</td>\n      <td>0.043549</td>\n      <td>0.312907</td>\n      <td>0.295754</td>\n      <td>0.057639</td>\n    </tr>\n    <tr>\n      <th>1</th>\n      <td>0.000691</td>\n      <td>0.145800</td>\n      <td>0.749420</td>\n      <td>0.552794</td>\n      <td>0.103423</td>\n      <td>0.438747</td>\n      <td>0.193837</td>\n      <td>0.021185</td>\n    </tr>\n    <tr>\n      <th>2</th>\n      <td>0.003454</td>\n      <td>0.190874</td>\n      <td>0.469129</td>\n      <td>0.274397</td>\n      <td>0.170790</td>\n      <td>0.681064</td>\n      <td>0.160265</td>\n      <td>0.010493</td>\n    </tr>\n    <tr>\n      <th>3</th>\n      <td>0.016235</td>\n      <td>0.267984</td>\n      <td>0.681517</td>\n      <td>0.369968</td>\n      <td>0.004215</td>\n      <td>0.030396</td>\n      <td>0.780024</td>\n      <td>0.563958</td>\n    </tr>\n    <tr>\n      <th>4</th>\n      <td>0.016580</td>\n      <td>0.499516</td>\n      <td>0.638135</td>\n      <td>0.193874</td>\n      <td>0.632479</td>\n      <td>0.937431</td>\n      <td>0.054201</td>\n      <td>0.000439</td>\n    </tr>\n    <tr>\n      <th>...</th>\n      <td>...</td>\n      <td>...</td>\n      <td>...</td>\n      <td>...</td>\n      <td>...</td>\n      <td>...</td>\n      <td>...</td>\n      <td>...</td>\n    </tr>\n    <tr>\n      <th>199</th>\n      <td>0.999309</td>\n      <td>0.360737</td>\n      <td>0.113342</td>\n      <td>0.046363</td>\n      <td>0.012263</td>\n      <td>0.130409</td>\n      <td>0.463188</td>\n      <td>0.170450</td>\n    </tr>\n    <tr>\n      <th>200</th>\n      <td>0.999655</td>\n      <td>0.202119</td>\n      <td>0.375312</td>\n      <td>0.195028</td>\n      <td>0.819767</td>\n      <td>0.937815</td>\n      <td>0.024826</td>\n      <td>0.001126</td>\n    </tr>\n    <tr>\n      <th>201</th>\n      <td>0.999655</td>\n      <td>0.281511</td>\n      <td>0.136676</td>\n      <td>0.062592</td>\n      <td>0.015500</td>\n      <td>0.164601</td>\n      <td>0.427512</td>\n      <td>0.136721</td>\n    </tr>\n    <tr>\n      <th>202</th>\n      <td>1.000000</td>\n      <td>0.257870</td>\n      <td>0.150234</td>\n      <td>0.078886</td>\n      <td>0.046148</td>\n      <td>0.257677</td>\n      <td>0.270005</td>\n      <td>0.050621</td>\n    </tr>\n    <tr>\n      <th>203</th>\n      <td>1.000000</td>\n      <td>0.275216</td>\n      <td>0.109521</td>\n      <td>0.074954</td>\n      <td>0.013634</td>\n      <td>0.109940</td>\n      <td>0.458925</td>\n      <td>0.177416</td>\n    </tr>\n  </tbody>\n</table>\n<p>204 rows × 8 columns</p>\n</div>"
     },
     "execution_count": 95,
     "metadata": {},
     "output_type": "execute_result"
    }
   ],
   "source": [
    "X = pd.DataFrame(scaled_values, index=X.index, columns=X.columns)\n",
    "X\n"
   ],
   "metadata": {
    "collapsed": false,
    "pycharm": {
     "name": "#%%\n"
    }
   }
  },
  {
   "cell_type": "code",
   "execution_count": 96,
   "outputs": [
    {
     "data": {
      "text/plain": "array([[0.09127311, 0.90872689]])"
     },
     "execution_count": 96,
     "metadata": {},
     "output_type": "execute_result"
    }
   ],
   "source": [
    "s = [0.121, 0.009, 0.333, 0.335, 0.655, 0.745, 0.736, 0.536]\n",
    "logit = LogisticRegression(random_state=2019, solver='lbfgs')\n",
    "logit.fit(X, y.values.ravel())\n",
    "\n",
    "logit.predict_proba([s])"
   ],
   "metadata": {
    "collapsed": false,
    "pycharm": {
     "name": "#%%\n"
    }
   }
  },
  {
   "cell_type": "code",
   "execution_count": 97,
   "outputs": [
    {
     "data": {
      "text/plain": "(array([[0.92323417, 0.92436395, 0.9276142 , 0.94790987, 0.95481864]]),\n array([[45, 84, 85, 80, 56]], dtype=int32))"
     },
     "execution_count": 97,
     "metadata": {},
     "output_type": "execute_result"
    }
   ],
   "source": [
    "kn = KNeighborsClassifier()\n",
    "kn.fit(X, y)\n",
    "kn.kneighbors([s])"
   ],
   "metadata": {
    "collapsed": false,
    "pycharm": {
     "name": "#%%\n"
    }
   }
  },
  {
   "cell_type": "code",
   "execution_count": 98,
   "outputs": [
    {
     "data": {
      "text/plain": "array([1], dtype=int64)"
     },
     "execution_count": 98,
     "metadata": {},
     "output_type": "execute_result"
    }
   ],
   "source": [
    "kn.predict([s])"
   ],
   "metadata": {
    "collapsed": false,
    "pycharm": {
     "name": "#%%\n"
    }
   }
  }
 ],
 "metadata": {
  "kernelspec": {
   "name": "pycharm-9b18c182",
   "language": "python",
   "display_name": "PyCharm (data_analysis)"
  },
  "language_info": {
   "codemirror_mode": {
    "name": "ipython",
    "version": 2
   },
   "file_extension": ".py",
   "mimetype": "text/x-python",
   "name": "python",
   "nbconvert_exporter": "python",
   "pygments_lexer": "ipython2",
   "version": "2.7.6"
  }
 },
 "nbformat": 4,
 "nbformat_minor": 0
}